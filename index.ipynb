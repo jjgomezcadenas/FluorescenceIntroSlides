{
 "cells": [
  {
   "cell_type": "code",
   "execution_count": 20,
   "metadata": {
    "slideshow": {
     "slide_type": "skip"
    }
   },
   "outputs": [],
   "source": [
    "%matplotlib inline\n",
    "from IPython.display import Image\n",
    "from IPython.display import Math\n",
    "from IPython.display import Latex"
   ]
  },
  {
   "cell_type": "code",
   "execution_count": 30,
   "metadata": {
    "slideshow": {
     "slide_type": "skip"
    }
   },
   "outputs": [
    {
     "name": "stdout",
     "output_type": "stream",
     "text": [
      "The autoreload extension is already loaded. To reload it, use:\n",
      "  %reload_ext autoreload\n",
      "Last updated on  Sat Jan 19 18:09:49 2019\n"
     ]
    }
   ],
   "source": [
    "%load_ext autoreload\n",
    "%autoreload 2\n",
    "import os\n",
    "import sys\n",
    "import time\n",
    "import warnings\n",
    "import datetime \n",
    "print(\"Last updated on \", time.asctime())"
   ]
  },
  {
   "cell_type": "code",
   "execution_count": 2,
   "metadata": {
    "slideshow": {
     "slide_type": "skip"
    }
   },
   "outputs": [],
   "source": [
    "import seaborn as sns\n",
    "import numpy as np\n",
    "import pandas as pd\n",
    "import matplotlib\n",
    "import tables            as tb\n",
    "import random\n",
    "import glob\n",
    "import warnings\n",
    "sns.set()"
   ]
  },
  {
   "cell_type": "code",
   "execution_count": 31,
   "metadata": {
    "slideshow": {
     "slide_type": "skip"
    }
   },
   "outputs": [],
   "source": [
    "from  invisible_cities.core.system_of_units import *"
   ]
  },
  {
   "cell_type": "raw",
   "metadata": {
    "slideshow": {
     "slide_type": "skip"
    }
   },
   "source": [
    "<style type=\"text/css\">\n",
    ".reveal h1, .reveal h2 {\n",
    "    font-family:\"League Gothic\"\n",
    "}\n",
    "</style>"
   ]
  },
  {
   "cell_type": "markdown",
   "metadata": {
    "slideshow": {
     "slide_type": "slide"
    }
   },
   "source": [
    "# Primer on fluorescence microscopy\n",
    "\n",
    "An introduction to fluorescence microscopy can be found [here](https://www.microscopyu.com/techniques/fluorescence/introduction-to-fluorescence-microscopy). In the next slides we summarize some of the key concepts.\n",
    "\n",
    "1. Fundamentals of Excitation and Emission\n",
    "2. Epi-fluorescence illumination \n",
    "3. Steering of the ligth. FIlters\n",
    "4. Stokes’ Shift\n",
    "5. Extintion coefficient and quantum yield\n",
    "6. Fading, Quenching, and Photobleaching\n",
    "7. Fluorescence Light Sources\n",
    "8. The Fluorescence Light Budget\n",
    "9. Produced fluorescence\n",
    "10. Dye concentration and emitted fluorescence\n",
    "11. Efficiency of detection\n",
    "12. Duration of fluorescence\n",
    "13. Detected light\n",
    "14. Detecting Single Molecules\n",
    "15. TIRFM"
   ]
  },
  {
   "cell_type": "markdown",
   "metadata": {
    "slideshow": {
     "slide_type": "slide"
    }
   },
   "source": [
    "## Fundamentals of Excitation and Emission\n",
    "\n",
    "\n",
    "<img align=\"center\" src=\"img/epiFluorescentMicroscope.png\" width=\"300\" height=\"300\"></img>\n",
    "\n",
    "Illustrated in figure is a cutaway diagram of a modern epi-fluorescence microscope equipped for both transmitted and reflected fluorescence microscopy. The vertical illuminator in the center of the diagram has the light source positioned at one end and the filter cube turret at the other. The design consists of a basic reflected light microscope in which the wavelength of the reflected light is longer than that of the excitation. In a fluorescence vertical illuminator, light of a specific wavelength is produced by passing multispectral light from an arc-discharge lamp through a wavelength selective excitation filter. Wavelengths passed by the excitation filter reflect from the surface of a dichromatic (also termed a dichroic) mirror or beamsplitter, through the microscope objective to bath the specimen with intense light. If the specimen fluoresces, the emission light gathered by the objective passes back through the dichromatic mirror and is subsequently filtered by a barrier (or emission) filter, which blocks the unwanted excitation wavelengths. \n"
   ]
  },
  {
   "cell_type": "markdown",
   "metadata": {
    "slideshow": {
     "slide_type": "slide"
    }
   },
   "source": [
    "## Epi-fluorescence illumination \n",
    "\n",
    "1. In Epi-fluorescence illumination the reflected light vertical illuminator is interposed between the observation viewing tubes and the nosepiece housing the objectives. The illuminator is designed to direct light onto the specimen by first passing the excitation light through the microscope objective (which in this configuration, acts as a condenser) on the way toward the specimen, and then using that same objective to capture the emitted fluorescence. \n",
    "2. This type of illuminator has several advantages. \n",
    "\n",
    "    a. The fluorescence microscope objective serves first as a well-corrected condenser and secondly as the image-forming light gatherer. Being a single component, the objective/condenser is always in perfect alignment.\n",
    "    \n",
    "    b. A majority of the excitation light reaching the specimen passes through without interaction and travels away from the objective, and the illuminated area is restricted to that which is observed through the eyepieces. \n",
    "        \n",
    "    c. The full numerical aperture of the objective is available when the microscope is properly configured."
   ]
  },
  {
   "cell_type": "markdown",
   "metadata": {
    "slideshow": {
     "slide_type": "slide"
    }
   },
   "source": [
    "## Steering of the ligth. FIlters\n",
    "\n",
    "<img align=\"center\" src=\"img/FluorescenceFilters.png\" width=\"300\" height=\"300\"></img>\n",
    "\n",
    "1. Excitation light travels along the illuminator perpendicular to the optical axis of the microscope, passes through collector lenses and impinges upon the excitation filter where selection of the desired band and blockage of unwanted wavelength occurs. \n",
    "3. The selected wavelengths, after passing through the excitation filter, reach the dichromatic beamsplitting mirror, which reflects shorter wavelength light and passes longer wavelength light. \n",
    "4. The dichromatic beamsplitter is tilted at a 45-degree angle with respect to the incoming excitation light and reflects this illumination at a 90-degree angle directly through the objective optical system and onto the specimen. \n",
    "5. Fluorescence emission produced by the illuminated specimen is gathered by the objective, now serving in its usual image-forming function. \n",
    "6. Because the emitted light consists of longer wavelengths than the excitation illumination, it is able to pass through the dichromatic mirror and upward to the observation tubes or electronic detector.\n"
   ]
  },
  {
   "cell_type": "markdown",
   "metadata": {
    "slideshow": {
     "slide_type": "slide"
    }
   },
   "source": [
    "## Stokes’ Shift\n",
    "\n",
    "<img align=\"center\" src=\"img/EmissionAbsorptionAlexa.png\" width=\"300\" height=\"300\"></img>\n",
    "\n",
    "Stokes' shift: the emission spectrum of an excited fluorophore is usually shifted to longer wavelengths when compared to the absorption or excitation spectrum. As Stokes' shift values increase, it becomes easier to separate excitation from emission light through the use of fluorescence filter combinations.\n",
    "\n",
    "In order to achieve maximum fluorescence intensity, a fluorophore (often termed a dye) is usually excited at wavelengths near or at the peak of the excitation curve, and the widest possible range of emission wavelengths that include the emission peak are selected for detection. The selection of excitation and emission wavelengths uses interference filters."
   ]
  },
  {
   "cell_type": "markdown",
   "metadata": {
    "slideshow": {
     "slide_type": "slide"
    }
   },
   "source": [
    "## Extintion coefficient and quantum yield\n",
    "\n",
    "1. The efficiency with which a particular fluorophore absorbs a photon of the excitation light is a function of the molecular cross-section, and the likelihood of absorption is known as the extinction coefficient. Larger extinction coefficients indicate that the absorption of a photon (or quantum) in a given wavelength region is more likely. \n",
    "2. The quantum yield denotes the ratio of the number of quanta emitted compared to those absorbed (and is usually a value between 0.1 and 1.0). Quantum yield values below 1 are the result of the loss of energy through nonradiative pathways, such as heat or a photochemical reaction, rather than the re-radiative pathway of fluorescence. "
   ]
  },
  {
   "cell_type": "markdown",
   "metadata": {
    "slideshow": {
     "slide_type": "slide"
    }
   },
   "source": [
    "## Fading, quenching and photobleaching\n",
    "\n",
    "1. The general term for a reduction of fluorescence emission intensity is fading, a catch-all category that is usually further subdivided into quenching and photobleaching phenomena for more precise descriptions. \n",
    "2. Photobleaching is the irreversible decomposition of the fluorescent molecules in the excited state because of their interaction with molecular oxygen before emission. \n",
    "3. The excited state relaxation process of quenching results in reduced fluorescence intensity through a variety of mechanisms involving non-radiative energy loss and frequently occurs as a result of oxidizing agents or the presence of salts or heavy metals or halogen compounds. \n",
    "4. In some cases, quenching results from the transfer of energy to another molecule (termed the acceptor), which resides physically close to the excited fluorophore (the donor), a phenomenon known as fluorescence resonance energy transfer (FRET). "
   ]
  },
  {
   "cell_type": "markdown",
   "metadata": {
    "slideshow": {
     "slide_type": "slide"
    }
   },
   "source": [
    "## Fluorescence Light Sources\n",
    "\n",
    "An unfortunate consequence of low emission levels in most fluorescence microscopy applications is that the number of photons that reach the eye or camera detector is also very low. In most cases, the collection efficiency of optical microscopes is less than 30 percent and the concentration of many fluorophores in the optical path ranges in the micromolar or nanomolar regions. In order to generate sufficient excitation light intensity to produce detectable emission, powerful compact light sources, such as high-energy short arc-discharge lamps, are necessary. "
   ]
  },
  {
   "cell_type": "markdown",
   "metadata": {
    "slideshow": {
     "slide_type": "slide"
    }
   },
   "source": [
    "## The Fluorescence Light Budget\n",
    "\n",
    "1. Excitation source: 75-Watt xenon arc-discharge lamp. When the lamp output is collected and directed through a 490-nanometer interference filter (having a 10-nanometer bandwidth and 75 percent transmission), about 2 milliWatts of light will pass through. After reflection by a 90-percent efficient dichromatic mirror, a light flux of 1.8 milliWatts enters the rear aperture of the microscope objective as the excitation beam.\n",
    "2. With a 100x objective having a numerical aperture of 1.4, the area of the specimen illuminated will be of the order of 100 x 100 mu^2. \n",
    "3. The light flux on the specimen is then about 150 Watts per square centimeter, which corresponds to a flux density of 3.6 x 10 × E(20) photons per square centimeter. "
   ]
  },
  {
   "cell_type": "code",
   "execution_count": 123,
   "metadata": {
    "slideshow": {
     "slide_type": "slide"
    }
   },
   "outputs": [],
   "source": [
    "def energy_light(lamda: float)->float:\n",
    "    \"\"\"\n",
    "    Return the energy of light of a given wavelenght (in natural units).\n",
    "    Parameters:\n",
    "        lambda: Wavelength of light\n",
    "    \n",
    "    \"\"\"\n",
    "    lnm = lamda / nm\n",
    "    return ((1240)/ lnm)*eV\n",
    "\n",
    "\n",
    "def n_photons_light(lamda: float, beam_energy: float)->float:\n",
    "    \"\"\"\n",
    "    Return the number of photons in a beam of wavelength lambda and beam_energy\n",
    "    Parameters:\n",
    "        lambda      : Wavelength of light\n",
    "        beam_energy : Energy of beam \n",
    "    \n",
    "    \"\"\"\n",
    "    return beam_energy / energy_light(lamda)\n",
    "\n",
    "\n",
    "def n_photons_per_time_light(lamda: float, beam_power: float, time: float)->float:\n",
    "    \"\"\"\n",
    "    Returns the number of photons per unit time in a beam of wavelength lambda with beam_power\n",
    "    Parameters:\n",
    "        lambda     : Wavelength in nm\n",
    "        beam_power : Beam power\n",
    "        time       : lenght of pulse\n",
    "    \n",
    "    \"\"\"\n",
    "    return beam_power * time / energy_light(lamda)"
   ]
  },
  {
   "cell_type": "code",
   "execution_count": 125,
   "metadata": {
    "slideshow": {
     "slide_type": "slide"
    }
   },
   "outputs": [
    {
     "name": "stdout",
     "output_type": "stream",
     "text": [
      "The energy of light with lambda = 490.0 nm is 2.5306122448979593 eV \n",
      "The energy of light with lambda = 490.0 nm is 4.0544895697959185e-19 J\n",
      "Number of photons light of lambda 490.0 nm and energy 150.0 J:               = 3.7e+20\n",
      "Number of photons in 1.0e+00/sec light of lambda 490.0 nm and power 150.0 W: = 3.7e+20\n"
     ]
    }
   ],
   "source": [
    "lamda       = 490 * nm\n",
    "beam_power  = 150 * watt\n",
    "time        = 1 * second\n",
    "beam_energy = beam_power * time\n",
    "print(f'The energy of light with lambda = {lamda/nm} nm is {energy_light(lamda)/eV} eV ')\n",
    "print(f'The energy of light with lambda = {lamda/nm} nm is {energy_light(lamda)/joule} J')\n",
    "print('Number of photons light of lambda {0:5.1f} nm and energy {1:5.1f} J:               = {2:5.1e}'.format(\n",
    "lamda/nm, beam_energy / joule, n_photons_light(lamda, beam_energy)))\n",
    "print('Number of photons in {0:5.1e}/sec light of lambda {1:5.1f} nm and power {2:5.1f} W: = {3:5.1e}'.format(\n",
    "time/second, lamda/nm, beam_power / watt, n_photons_per_time_light(lamda, beam_power, time)))\n"
   ]
  },
  {
   "cell_type": "markdown",
   "metadata": {
    "slideshow": {
     "slide_type": "slide"
    }
   },
   "source": [
    "## Produced fluorescence\n",
    "\n",
    "The fluorescence emission depends on:\n",
    "\n",
    "1. The absorption and emission characteristics of the fluorophore.\n",
    "2. Its concentration in the specimen. \n",
    "3. The optical path length. \n",
    "4. Tthe fluorescence produced (F) is then given by the equation:\n",
    "\n",
    "$$ F = \\sigma × Q × I$$\n",
    "\n",
    "where σ is the molecular absorption cross-section, Q is the quantum yield, and I is the incident light flux. Assuming that fluorescein is the fluorophore, the absorption cross-section (σ) is 3 x 10 × E(-16) square centimeters per molecule, Q equals 0.99, resulting in a value for F of 100,000 photons per second per molecule. "
   ]
  },
  {
   "cell_type": "code",
   "execution_count": 144,
   "metadata": {
    "slideshow": {
     "slide_type": "slide"
    }
   },
   "outputs": [
    {
     "name": "stdout",
     "output_type": "stream",
     "text": [
      "Fluorescence per molecule and second = 1.1e+05\n"
     ]
    }
   ],
   "source": [
    "def max_flux_due_to_photobleach(case : str ='oxygenated')->float:\n",
    "    \"\"\"\n",
    "    Return the max number of photons per molecule due to photobleaching\n",
    "    Parameters:\n",
    "        str       : \n",
    "            takes values 'o' or 'oxygenated' for oxygenated atmosphere\n",
    "            takes values 'd' or 'deoxygenated' for deoxygenated atmosphere\n",
    "     \n",
    "    \"\"\"\n",
    "    if case == 'oxygenated' or case == 'o': \n",
    "        return 36000 \n",
    "    elif case == 'deoxygenated' or case == 'd': \n",
    "        return 360000 \n",
    "    else:\n",
    "        return 1e20  # an arbitrary large number\n",
    "\n",
    "\n",
    "def fluorescence_per_molecule(sigma: float, Q: float, I: float, time: float, case :str ='')->float:\n",
    "    \"\"\"\n",
    "    Returns the number of photons per molecule emitted by fluorescence.\n",
    "    Parameters:\n",
    "        sigma       : absorption cross section per molecule\n",
    "        beam_energy : Q quantum yield of molecule \n",
    "        I           : beam power per unit surface\n",
    "        time        : time of pulse\n",
    "    \n",
    "    \"\"\"\n",
    "    return min(sigma * Q * I, max_flux_due_to_photobleach(case))\n",
    "\n",
    "sigma_fl = 3E-16 * cm2\n",
    "Q        = 1\n",
    "I        = n_photons_per_time_light(lamda, beam_power, time) / cm2\n",
    "print('Fluorescence per molecule and second = {0:5.1e}'.format(fluorescence_per_molecule(sigma_fl, Q, I, time)))"
   ]
  },
  {
   "cell_type": "markdown",
   "metadata": {
    "slideshow": {
     "slide_type": "slide"
    }
   },
   "source": [
    "## Dye concentration and emitted fluorescence\n",
    "\n",
    "1. If the dye concentration is 1 micromole per liter and is uniformly distributed in a 40-micrometer diameter disk with a thickness of 10 micrometers (volume equal to 12 picoliters), there are approximately 1.2 x 10 × E(-17) moles of dye or 7.2 million molecules in the optical path.\n",
    "\n",
    "2. If all of the molecules were excited simultaneously, the fluorescence emission rate would be 7.2 x 10 × E(11) photons per second (given the product of F and the number of dye molecules)"
   ]
  },
  {
   "cell_type": "code",
   "execution_count": 134,
   "metadata": {
    "slideshow": {
     "slide_type": "slide"
    }
   },
   "outputs": [
    {
     "name": "stdout",
     "output_type": "stream",
     "text": [
      "nof molecules in path                         = 7.6e+06\n",
      "nof photons in   1.0 second emitted by sample = 8.4e+11\n"
     ]
    }
   ],
   "source": [
    "Avogadro = 6.023E+23\n",
    "def n_molecules(dye_concentration: float, dye_volume: float)->float:\n",
    "    \"\"\"\n",
    "    Returns the number of molecules given a dye concentration and a dye volume\n",
    "    Parameters:\n",
    "        dye_concentration  : Concentration of dye\n",
    "        dye_volume         : Volume of dye\n",
    "    \n",
    "    \"\"\"\n",
    "    return Avogadro * dye_concentration * dye_volume\n",
    "\n",
    "dye_c  = 1 * micromole/l\n",
    "dye_v  = np.pi * (40/2)**2 * 10 * micron3\n",
    "print('nof molecules in path                         = {0:5.1e}'.format(n_molecules(dye_c, dye_v)))\n",
    "\n",
    "print('nof photons in {0:5.1f} second emitted by sample = {1:5.1e}'.format(time/second,\n",
    "      n_molecules(dye_c, dye_v) * fluorescence_per_molecule(sigma_fl, Q, I, time)))"
   ]
  },
  {
   "cell_type": "markdown",
   "metadata": {
    "slideshow": {
     "slide_type": "slide"
    }
   },
   "source": [
    "## Efficiency of detection\n",
    "\n",
    "1. The efficiency of detection is a function of the optical collection efficiency and the detector quantum efficiency. \n",
    "2. A 1.4-numerical aperture objective with 100-percent transmission (an unrealistic condition) has a maximum collection efficiency, limited by the acceptance angle of about 30 percent. \n",
    "3. The transmission efficiency of the dichromatic mirror is 85 percent and that of the barrier filter is 80 percent. The overall collection efficiency is then about 20 percent or 140 billion photons per second. \n",
    "4. If the detector is a conventional charge-coupled device (CCD), the quantum efficiency is about 50 percent for the green fluorescein emission (at 525 nanometers), so the detected signal would be 70 billion photons per second or about 10 percent of the emitted fluorescence. "
   ]
  },
  {
   "cell_type": "code",
   "execution_count": 135,
   "metadata": {
    "slideshow": {
     "slide_type": "slide"
    }
   },
   "outputs": [
    {
     "name": "stdout",
     "output_type": "stream",
     "text": [
      " for NA =   1.4, M = 100.0: T =   0.3\n",
      " for NA =   0.7, M = 100.0: T =   0.1\n"
     ]
    }
   ],
   "source": [
    "def light_transmission_efficiency(na: float = 1.4, m: float = 100)->float:\n",
    "    \"\"\"\n",
    "    Return the light transmission efficiency of an optical system with numerical aperture NA and magnification M\n",
    "    Parameters:\n",
    "        ma  : Numerical aperture\n",
    "        m   : magnification\n",
    "    \n",
    "    \"\"\"\n",
    "    na1 = 1.4\n",
    "    m1  = 100\n",
    "    t1  = 0.3\n",
    "    \n",
    "    f1 = na / na1\n",
    "    f2 = m / m1\n",
    "    \n",
    "    return t1 * (f1/f2)**2 \n",
    "    \n",
    "NA = 1.4\n",
    "M =  100\n",
    "print(' for NA = {0:5.1f}, M = {1:5.1f}: T = {2:5.1f}'.format(\n",
    "      NA, M, light_transmission_efficiency(NA, M) ))   \n",
    "\n",
    "NA = 0.7\n",
    "M =  100\n",
    "print(' for NA = {0:5.1f}, M = {1:5.1f}: T = {2:5.1f}'.format(\n",
    "      NA, M, light_transmission_efficiency(NA, M) ))   \n",
    "\n",
    "  "
   ]
  },
  {
   "cell_type": "code",
   "execution_count": 136,
   "metadata": {
    "slideshow": {
     "slide_type": "slide"
    }
   },
   "outputs": [
    {
     "name": "stdout",
     "output_type": "stream",
     "text": [
      "Filter and CCD efficiency = 0.34\n"
     ]
    }
   ],
   "source": [
    "def filter_and_ccd_efficiency(eff_dm: float = 0.85, eff_f: float = 0.8, eff_ccd : float = 0.5)->float:\n",
    "    \"\"\"\n",
    "    Returns the efficiency of filters and CCD\n",
    "    Parameters:\n",
    "        eff_dm  : efficiency of dicroic mirror\n",
    "        eff_f   : efficiency of selection filter\n",
    "        ef_ccd  : efficiency CCD\n",
    "    \n",
    "    \"\"\"\n",
    "    return eff_dm * eff_f * eff_ccd\n",
    "\n",
    "print(f'Filter and CCD efficiency = {filter_and_ccd_efficiency()}')"
   ]
  },
  {
   "cell_type": "code",
   "execution_count": 139,
   "metadata": {
    "slideshow": {
     "slide_type": "slide"
    }
   },
   "outputs": [
    {
     "name": "stdout",
     "output_type": "stream",
     "text": [
      "Overall detection efficiency          =  0.10\n",
      "Number of detected photons per second = 8.6e+10\n"
     ]
    }
   ],
   "source": [
    "overall_detection_efficiency = light_transmission_efficiency() * filter_and_ccd_efficiency()\n",
    "nof_photons = n_molecules(dye_c, dye_v) * fluorescence_per_molecule(sigma_fl, \n",
    "                                                                    Q, I, time) * overall_detection_efficiency\n",
    "print('Overall detection efficiency          = {0:5.2f}'.format(overall_detection_efficiency))\n",
    "print('Number of detected photons per second = {0:5.1e}'.format(nof_photons))\n"
   ]
  },
  {
   "cell_type": "markdown",
   "metadata": {
    "slideshow": {
     "slide_type": "slide"
    }
   },
   "source": [
    "## Duration of fluorescence\n",
    "\n",
    "1. The duration of fluorescence emission depends upon the rate of fluorophore destruction as a result of photobleaching. \n",
    "2. For fluorescein in an oxygenated saline solution, measurements indicate that each molecule can only emit about 36,000 photons before being destroyed. \n",
    "3. In a deoxygenated environment, the rate of photodestruction diminishes about tenfold, so 360,000 photons are produced per fluorescein molecule. \n",
    "4. The entire dye pool, in this example (7.2 million molecules), would then be capable of producing a minimum of 2.6 x 10 × E(11) and a maximum of 2.6 x 10 × E(12) photons. \n",
    "5. Assuming the emission rate of 100,000 photons per second per molecule calculated above, fluorescence could continue for only 0.3 to 3 seconds before photodestruction. \n",
    "6. In the case where 10 percent of the photon flux is detected, a signal of 7.2 x 10 × E(10) electrons per second would be obtained."
   ]
  },
  {
   "cell_type": "code",
   "execution_count": 153,
   "metadata": {
    "slideshow": {
     "slide_type": "slide"
    }
   },
   "outputs": [
    {
     "name": "stdout",
     "output_type": "stream",
     "text": [
      "duration of fluorescence in oxygenated environment =   0.3 secon\n",
      "duration of fluorescence in deoxygenated environment =   3.2 second\n"
     ]
    }
   ],
   "source": [
    "def duration_of_fluorescence(sigma: float, Q: float, I: float, time: float, case :str ='')->float:\n",
    "    \"\"\"\n",
    "    Returns the duration of fluorescence due to photobleaching \n",
    "    Parameters:\n",
    "        eff_dm  : efficiency of dicroic mirror\n",
    "        eff_f   : efficiency of selection filter\n",
    "        ef_ccd  : efficiency CCD\n",
    "    \n",
    "    \"\"\"\n",
    "\n",
    "    cases =['o','d','oxygenated','deoxigenated']\n",
    "    if case in cases:\n",
    "        return (max_flux_due_to_photobleach(case) / fluorescence_per_molecule(sigma, Q, I, time, case=''))* second \n",
    "    else:\n",
    "        return 1e+20\n",
    "\n",
    "print('duration of fluorescence in oxygenated environment = {0:5.1f} secon'.format(\n",
    "duration_of_fluorescence(sigma_fl, Q, I, time, case='o') / second))\n",
    "print('duration of fluorescence in deoxygenated environment = {0:5.1f} second'.format(\n",
    "duration_of_fluorescence(sigma_fl, Q, I, time, case='d') / second))\n",
    "\n",
    "    "
   ]
  },
  {
   "cell_type": "markdown",
   "metadata": {
    "slideshow": {
     "slide_type": "slide"
    }
   },
   "source": [
    "## Detected light\n",
    "\n",
    "1. If the detector is a 1000 x 1000 pixel CCD camera, the signal will be distributed over a million sensors, with approximately 72,000 electrons per sensor. \n",
    "2. For a scientific-grade CCD with 9-micrometer square sensors, the full well storage capacity is about 80,000 electrons and the read-out noise is less than 10 electrons. \n",
    "3. The signal-to-noise ratio would then be largely determined by photon statistical noise equal to the square root of the signal, approximately 268. \n",
    "4. In almost all cases, this high signal level could only continue for a very brief period of time before photodestruction occurs. \n",
    "5. The compromise utilized by most microscopists to prolong the observation period is a reduction in the incident light flux intensity so that only a fraction of the fluorophore molecules in the dye pool are excited and subjected to photodestruction. \n",
    "6. Thus, the signal-to-noise ratio rarely equals the theoretical maximum and typically ranges between 10 and 20 in fluorescence microscopy."
   ]
  },
  {
   "cell_type": "markdown",
   "metadata": {
    "slideshow": {
     "slide_type": "slide"
    }
   },
   "source": [
    "## Detecting single molecules\n",
    "\n",
    "1. It is often possible to detect the fluorescence emission from a single molecule, provided that the optical background and detector noise are sufficiently low. \n",
    "2. As discussed above, a single fluorescein molecule could emit as many as 300,000 photons before it is destroyed by photobleaching. \n",
    "3. Assuming a 20-percent collection and detection efficiency, about 60,000 photons would be detected. Using avalanche photodiode or electron multiplying CCD detectors for these experiments, investigators have been able to monitor the behavior of single molecules for many seconds and even minutes. \n",
    "4. The major problem is adequate suppression of the optical background noise. Because many of the materials utilized in construction of microscope lenses and filters display some level of autofluorescence, efforts were initially directed toward the manufacture of very low fluorescence components. \n",
    "7. However, it soon became evident that fluorescence microscopy techniques utilizing total internal reflection (TIR) provided the desired combination of low background and high excitation light flux."
   ]
  },
  {
   "cell_type": "markdown",
   "metadata": {
    "slideshow": {
     "slide_type": "slide"
    }
   },
   "source": [
    "## TIRFM\n",
    "\n",
    "<img align=\"center\" src=\"img/TIRF.png\" width=\"500\" height=\"500\"></img>\n",
    "\n",
    "1. Total internal reflection fluorescence microscopy (TIRFM) takes advantage of the evanescent wave that is developed when light is totally internally reflected at the interface between two media having dissimilar refractive indices. "
   ]
  },
  {
   "cell_type": "markdown",
   "metadata": {
    "slideshow": {
     "slide_type": "slide"
    }
   },
   "source": [
    "1. The principle employing an external light source is illustrated in Figure (a). In this technique, a beam of light (usually an expanded laser beam) is directed through a prism of high refractive index, such as glass or sapphire, which abuts a lower refractive index medium of glass or aqueous solution.\n",
    "2. If the light is directed into the prism at higher than the critical angle, the beam will be totally internally reflected at the interface. The reflection phenomenon develops an evanescent wave at the interface by the generation of an electromagnetic field that permeates about 200 nanometers or less into the lower refractive index space. The light intensity in the evanescent wave is sufficiently high to excite the fluorophores within it, but because of its shallow depth, the volume excited is very small. The result is an extremely low-level background because so little of the specimen is exposed to the excitation light (only that portion within a 200-nanometer distance of the interface).\n",
    "3. TIRF can also be conducted through a modification of the epi-illumination approached utilized in widefield techniques (as illustrated in Figure (b)). This method requires a very high numerical aperture objective (at least 1.4, but preferably 1.45 to 1.6) and partial illumination of the microscope field from one side by a small sport or more uniform illumination by a thin annulus. High refractive index lens immersion medium and microscope cover glass are required to achieve the illumination angle resulting in total internal reflection. As presented in Figure (b), light rays exiting the objective front lens element at an angle less than the critical angle (denoted as A(1)) in figure (b)) are transmitted away from the microscope. When the angle is increased to or beyond the critical angle (indicated a angle A(2) in Figure (b)), total internal reflection results."
   ]
  },
  {
   "cell_type": "code",
   "execution_count": 18,
   "metadata": {
    "slideshow": {
     "slide_type": "slide"
    }
   },
   "outputs": [
    {
     "name": "stdout",
     "output_type": "stream",
     "text": [
      "The energy of light with lambda = 250 nm is 4.96 eV \n",
      "The energy of light with lambda = 250 nm is 7.946799556800001e-19 J\n",
      "The number of photons pers 1.0 second of light with lambda = 250 and power 1.0 W is:\n",
      "1.2583682183657313e+18\n"
     ]
    }
   ],
   "source": [
    "lamda_250   = 250 # in nm\n",
    "beam_power  = 1 * watt\n",
    "time        = 1 * second\n",
    "beam_energy = beam_power * time\n",
    "print(f'The energy of light with lambda = {lamda_250} nm is {energy_light_of_wl_lambda(250)/eV} eV ')\n",
    "print(f'The energy of light with lambda = {lamda_250} nm is {energy_light_of_wl_lambda(250)/joule} J')\n",
    "print(f'The number of photons pers {time/second} second of light with lambda = {lamda_250} and power {beam_power/watt} W is:')\n",
    "print(f'{n_photons_beam_of_wl_lambda(lamda_250, beam_energy)}')"
   ]
  },
  {
   "cell_type": "code",
   "execution_count": null,
   "metadata": {
    "slideshow": {
     "slide_type": "skip"
    }
   },
   "outputs": [],
   "source": [
    "energy_light_of_wl_lambda(lamda_nm: float) ->float:\n",
    "    \"\"\"\n",
    "    Returns the energy of light of a given wavelenght (in natural units).\n",
    "    Parameters:\n",
    "        lambda_nm: Wavelength in nm\n",
    "    \n",
    "    \"\"\"\n",
    "    return ((1240)/ lamda_nm)*eV\n",
    "\n",
    "def n_photons_beam_of_wl_lambda"
   ]
  },
  {
   "cell_type": "markdown",
   "metadata": {
    "slideshow": {
     "slide_type": "slide"
    }
   },
   "source": [
    "# <center>  Demonstration of Single Barium Ion Sensitivity for Neutrinoless Double Beta Decay using Single Molecule Fluorescence Imaging  </center>\n",
    "\n",
    "#### <center>  <b> A.D.McDonald et al, (The NEXT Collaboration) </b> </center>\n",
    "\n"
   ]
  },
  {
   "cell_type": "markdown",
   "metadata": {
    "slideshow": {
     "slide_type": "slide"
    }
   },
   "source": [
    "# Experiment\n",
    "\n",
    "1. To demonstrate single Ba++ sensitivity we have imaged individual near-surface Ba++ ions from dilute barium salt solutions. \n",
    "2. We use the technique of through-objective total internal reflection fluorescence (TIRF) microscopy. In through-objective TIRF, a high numerical aperture objective is used to convert a focused light beam on the back-focal plane (BFP) into parallel rays. By translating the focal point across the BFP, the emerging parallel rays are brought to a shallow angle, until eventually they totally internally reflect on the lower sample surface. The evanescent excitation wave, extending only about one wavelength into the sample, causes fluorescence of the near-surface molecules while minimizing deeper fluorescence and scattering from within the sample. \n",
    "3. By focusing the objective on the same scanning surface and imaging the fluorescence light, individual fluorescent molecules can be spatially resolved above a dimmer, diffuse background."
   ]
  },
  {
   "cell_type": "markdown",
   "metadata": {
    "slideshow": {
     "slide_type": "slide"
    }
   },
   "source": [
    "## Setup\n",
    "\n",
    "\n",
    "<img align=\"center\" src=\"img/smfi_uta_setup.png\"></img>\n",
    "\n"
   ]
  },
  {
   "cell_type": "markdown",
   "metadata": {
    "slideshow": {
     "slide_type": "slide"
    }
   },
   "source": [
    "## Microscope\n",
    "\n",
    "The apparatus is an [Olympus IX-70 inverted fluorescence microscope frame](https://www.olympus-lifescience.com/en/microscope-resource/primer/techniques/fluorescence/ix70fluorescence/)"
   ]
  },
  {
   "cell_type": "code",
   "execution_count": null,
   "metadata": {},
   "outputs": [],
   "source": []
  },
  {
   "cell_type": "markdown",
   "metadata": {
    "slideshow": {
     "slide_type": "subslide"
    }
   },
   "source": [
    "## About me\n",
    "\n",
    "- Software Engineer at [Freelancer.com](https://www.freelancer.com) HQ in Sydney, Australia\n",
    "\n",
    "- Author of \"Doing Math with Python\" (No Starch Press, 2015)\n",
    "\n",
    "- Writes for Linux Voice, Linux Journal, and others.\n",
    "\n",
    "- [Blog](http://echorand.me), [GitHub](http://github.com/amitsaha)\n",
    "\n",
    "\n",
    "#### Contact\n",
    "\n",
    "- [@echorand](http://twitter.com/echorand)\n",
    "\n",
    "- [Email](mailto:amitsaha.in@gmail.com)\n"
   ]
  },
  {
   "cell_type": "markdown",
   "metadata": {
    "slideshow": {
     "slide_type": "slide"
    }
   },
   "source": [
    "<center><font size=\"12\"> Slides: https://doingmathwithpython.github.io/pycon-us-2016/</font> </center>\n",
    "<p>\n",
    "<p>\n",
    "<center><font size=\"12\"> All presentation materials: https://github.com/doingmathwithpython</font></center>"
   ]
  },
  {
   "cell_type": "markdown",
   "metadata": {
    "slideshow": {
     "slide_type": "notes"
    }
   },
   "source": [
    "So, what am I selling to you today? Not my book (I am, but in a subtle way). I am presenting an idea, a hypothesis or even making a statement - Python can lead to a more enriching learning and teaching experience in the classroom.\n",
    "\n",
    "Let me explain where I am coming from. When I think back about when I was learning to program and learning all other subjects in standards 7-10. I think it's true today as well. Programming and other subjects such as Math, Science are taught in a disconnected fashion. Programming seems to be all about finding the sum of a series or generating fibonacci numbers. Make no mistake, these exercises are what builds up the programming logic. Some students get really excited about being able to do these, but a lot of them don't.  It's a lot like not everyone gets interested in solving puzzles - i don't, i never took to them.\n",
    "\n",
    "I think I know of a way we could excite more students! Show them how you can write programs to do your homework, or experiment without having to go the science lab or setup elaborate experimental setups. This is my goal for today - in the following slides and notebooks, I will hypothesise on a way of connecting Python programming and other subjects. That will show that programming is a way to get real work done, not something to learn for the sake of it.\n",
    "\n",
    "We need some tools to help us on our quest. The Python community has some giant shoulders we can stand upon - Python 3, SymPy and matplotlib."
   ]
  },
  {
   "cell_type": "markdown",
   "metadata": {
    "slideshow": {
     "slide_type": "slide"
    }
   },
   "source": [
    "\n",
    "### This talk - a proposal, a hypothesis, a statement\n",
    "\n",
    "What? *Python can lead to a more enriching learning and teaching experience in the classroom* \n",
    "\n",
    "\n",
    "\n",
    "How? *Next slides*\n",
    "\n",
    "\n",
    "\n",
    "\n",
    "\n",
    "\n"
   ]
  },
  {
   "cell_type": "markdown",
   "metadata": {
    "slideshow": {
     "slide_type": "subslide"
    }
   },
   "source": [
    "###  Tools (or, Giant shoulders we will stand on)\n",
    "\n",
    "<img align=\"center\" src=\"images/giant_shoulders_collage.jpg\"></img>\n",
    "\n",
    "\n",
    "*Python 3*, *SymPy*, *matplotlib*\n",
    "\n",
    "\n",
    "*Individual logos are copyright of the respective projects. [Source](http://www.orphancaremovement.org/standing-on-the-shoulder-of-giants/) of the \"giant shoulders\" image.\n"
   ]
  },
  {
   "cell_type": "markdown",
   "metadata": {
    "slideshow": {
     "slide_type": "notes"
    }
   },
   "source": [
    "Whose calculator looks like this?\n",
    "\n",
    "Who uses Python as a calculator? Raise of hands please!\n",
    "\n",
    "I do! Specifically, I use Python 3 because of 1/2=0 messes up my monthly expenditure calculation.\n",
    "\n",
    "Besides the usual addition and subtraction, we have of course the math module and more recently the statistics module which makes Python a worthy scientific calculator.\n",
    "\n",
    "But then, there's more! You are not limited to the functions from those libraries, you can write your own custom functions and make them available whenever you start your Python interpreter. How?\n",
    "\n",
    "Use PYTHONSTARTUP!"
   ]
  },
  {
   "cell_type": "markdown",
   "metadata": {
    "slideshow": {
     "slide_type": "slide"
    }
   },
   "source": [
    "### Python - a scientific calculator\n",
    "\n",
    "\n",
    "\n",
    "Whose calculator looks like this?\n",
    "\n",
    "```python\n",
    ">>> (131 + 21.5 + 100.2 + 88.7 + 99.5 + 100.5 + 200.5)/4\n",
    "185.475\n",
    "```\n",
    "\n",
    "\n",
    "*Python 3 is my favorite calculator (not Python 2 because 1/2 = 0)*\n",
    "\n",
    "Beyond basic operations:\n"
   ]
  },
  {
   "cell_type": "markdown",
   "metadata": {
    "slideshow": {
     "slide_type": "fragment"
    }
   },
   "source": [
    "\n",
    "- `fabs()`, `abs()`, `sin()`, `cos()`, `gcd()`, `log()` and more (See [math](https://docs.python.org/3/library/math.html))\n",
    "\n",
    "- Descriptive statistics (See [statistics](https://docs.python.org/3/library/statistics.html#module-statistics))\n"
   ]
  },
  {
   "cell_type": "markdown",
   "metadata": {
    "slideshow": {
     "slide_type": "subslide"
    }
   },
   "source": [
    "### Python - a scientific calculator\n",
    "\n",
    "- Develop your own functions: unit conversion, finding correlation, .., anything really\n",
    "\n",
    "- Use PYTHONSTARTUP to extend the battery of readily available mathematical functions\n",
    "\n",
    "```python\n",
    "$ PYTHONSTARTUP=~/work/dmwp/pycon-us-2016/startup_math.py idle3 -s\n",
    "```\n",
    "\n"
   ]
  },
  {
   "cell_type": "markdown",
   "metadata": {
    "slideshow": {
     "slide_type": "subslide"
    }
   },
   "source": [
    "\n",
    "### Unit conversion functions\n",
    "\n",
    "```python\n",
    "\n",
    ">>> unit_conversion()\n",
    "1. Kilometers to Miles\n",
    "2. Miles to Kilometers\n",
    "3. Kilograms to Pounds\n",
    "4. Pounds to Kilograms\n",
    "5. Celsius to Fahrenheit\n",
    "6. Fahrenheit to Celsius\n",
    "Which conversion would you like to do? 6\n",
    "Enter temperature in fahrenheit: 98\n",
    "Temperature in celsius: 36.66666666666667\n",
    ">>> \n",
    "\n",
    "```"
   ]
  },
  {
   "cell_type": "markdown",
   "metadata": {
    "slideshow": {
     "slide_type": "subslide"
    }
   },
   "source": [
    "### Finding linear correlation\n",
    "\n",
    "```python\n",
    ">>> \n",
    ">>> x = [1, 2, 3, 4]\n",
    ">>> y = [2, 4, 6.1, 7.9]\n",
    ">>> find_corr_x_y(x, y)\n",
    "0.9995411791453812\n",
    "\n",
    "```"
   ]
  },
  {
   "cell_type": "markdown",
   "metadata": {
    "slideshow": {
     "slide_type": "notes"
    }
   },
   "source": [
    "So, that was Python and it's standard libraries. When you bring in third party libraries to the mix, Python becomes a seriously fancy calculator.\n",
    "\n",
    "Who has heard about SymPy?\n",
    "\n",
    "You can give it algebraic expressions to a function and a graph will be created for you.\n",
    "\n",
    "You can give an equation and out comes the solutions for that equation.\n",
    "\n",
    "We can even solve calculus problems."
   ]
  },
  {
   "cell_type": "markdown",
   "metadata": {
    "slideshow": {
     "slide_type": "slide"
    }
   },
   "source": [
    "### Python - a really fancy calculator\n",
    "\n",
    "SymPy - a pure Python symbolic math library\n",
    "\n",
    "*from sympy import awesomeness*  - don't try that :)\n",
    "\n",
    "\n"
   ]
  },
  {
   "cell_type": "code",
   "execution_count": 5,
   "metadata": {
    "slideshow": {
     "slide_type": "subslide"
    }
   },
   "outputs": [
    {
     "data": {
      "image/png": "[encoded data removed]",
      "text/plain": [
       "<matplotlib.figure.Figure at 0x1113f94a8>"
      ]
     },
     "metadata": {},
     "output_type": "display_data"
    }
   ],
   "source": [
    "# Create graphs from algebraic expressions\n",
    "\n",
    "from sympy import Symbol, plot\n",
    "x = Symbol('x')\n",
    "p = plot(2*x**2 + 2*x + 2)\n"
   ]
  },
  {
   "cell_type": "code",
   "execution_count": 13,
   "metadata": {
    "slideshow": {
     "slide_type": "subslide"
    }
   },
   "outputs": [
    {
     "data": {
      "text/plain": [
       "[-1/2]"
      ]
     },
     "execution_count": 13,
     "metadata": {},
     "output_type": "execute_result"
    }
   ],
   "source": [
    "# Solve equations\n",
    "\n",
    "from sympy import solve, Symbol\n",
    "x = Symbol('x')\n",
    "solve(2*x + 1)\n"
   ]
  },
  {
   "cell_type": "code",
   "execution_count": 24,
   "metadata": {
    "slideshow": {
     "slide_type": "subslide"
    }
   },
   "outputs": [
    {
     "data": {
      "text/plain": [
       "1"
      ]
     },
     "execution_count": 24,
     "metadata": {},
     "output_type": "execute_result"
    }
   ],
   "source": [
    "# Limits\n",
    "\n",
    "from sympy import Symbol, Limit, sin\n",
    "x = Symbol('x')\n",
    "Limit(sin(x)/x, x, 0).doit()\n",
    "\n",
    "\n"
   ]
  },
  {
   "cell_type": "code",
   "execution_count": 2,
   "metadata": {
    "slideshow": {
     "slide_type": "subslide"
    }
   },
   "outputs": [
    {
     "data": {
      "image/png": "[encoded data removed]",
      "text/latex": [
       "$$\\left(\\frac{\\left(2 x + 1\\right) \\cos{\\left (x \\right )}}{\\sin{\\left (x \\right )}} + 2 \\log{\\left (\\sin{\\left (x \\right )} \\right )}\\right) \\sin^{2 x + 1}{\\left (x \\right )}$$"
      ],
      "text/plain": [
       "⎛(2⋅x + 1)⋅cos(x)                ⎞    2⋅x + 1   \n",
       "⎜──────────────── + 2⋅log(sin(x))⎟⋅sin       (x)\n",
       "⎝     sin(x)                     ⎠              "
      ]
     },
     "execution_count": 2,
     "metadata": {},
     "output_type": "execute_result"
    }
   ],
   "source": [
    "# Derivative\n",
    "\n",
    "from sympy import Symbol, Derivative, sin, init_printing\n",
    "x = Symbol('x')\n",
    "init_printing()\n",
    "Derivative(sin(x)**(2*x+1), x).doit()"
   ]
  },
  {
   "cell_type": "code",
   "execution_count": 16,
   "metadata": {
    "slideshow": {
     "slide_type": "subslide"
    }
   },
   "outputs": [
    {
     "data": {
      "image/png": "[encoded data removed]",
      "text/latex": [
       "$$\\frac{2 x^{\\frac{3}{2}}}{3}$$"
      ],
      "text/plain": [
       "   3/2\n",
       "2⋅x   \n",
       "──────\n",
       "  3   "
      ]
     },
     "execution_count": 16,
     "metadata": {},
     "output_type": "execute_result"
    }
   ],
   "source": [
    "# Indefinite integral\n",
    "\n",
    "from sympy import Symbol, Integral, sqrt, sin, init_printing\n",
    "x = Symbol('x')\n",
    "init_printing()\n",
    "Integral(sqrt(x)).doit()"
   ]
  },
  {
   "cell_type": "code",
   "execution_count": 19,
   "metadata": {
    "slideshow": {
     "slide_type": "fragment"
    }
   },
   "outputs": [
    {
     "data": {
      "image/png": "[encoded data removed]",
      "text/latex": [
       "$$\\frac{4 \\sqrt{2}}{3}$$"
      ],
      "text/plain": [
       "4⋅√2\n",
       "────\n",
       " 3  "
      ]
     },
     "execution_count": 19,
     "metadata": {},
     "output_type": "execute_result"
    }
   ],
   "source": [
    "# Definite integral\n",
    "\n",
    "from sympy import Symbol, Integral, sqrt\n",
    "x = Symbol('x')\n",
    "Integral(sqrt(x), (x, 0, 2)).doit()"
   ]
  },
  {
   "cell_type": "markdown",
   "metadata": {
    "slideshow": {
     "slide_type": "notes"
    }
   },
   "source": [
    "I will pause for a moment now. In the first two slides, we have seen how Python can be a super awesome calculator. What does that buy us? We have now been able to show that you can make computer programs literally do your homework. Write a program to do your work once and you will never have to make those lengthy calculations yourselves. Can we use Python to do more? \n",
    "\n",
    "Let's continue."
   ]
  },
  {
   "cell_type": "markdown",
   "metadata": {
    "slideshow": {
     "slide_type": "slide"
    }
   },
   "source": [
    "<center><h1>Can we do more than write smart calculators?</h1></center>\n",
    "\n"
   ]
  },
  {
   "cell_type": "markdown",
   "metadata": {
    "slideshow": {
     "slide_type": "notes"
    }
   },
   "source": [
    "Python can be more than a super powerful calculator. We can use it to enhance the learning experience of other subjects. Next, I have three examples including a demo. First up, a video of a projectile motion. This program uses matplotlib's animation API to create a basic animation of a projectile motion - a fairly common subject introduced in introductory Physics. The program which is linked asks for the angle of projection and speed and then draws the trajectory of the projectile. Just by running the program multiple times, we can see how the trajectory changes. We don't have to go outside and start throwing balls..\n",
    "\n",
    "Next, we will put Jupyter Notebook's interactive widgets to good effect by drawing a Barnsley Fern. Let's see how the demo goes.\n",
    "\n",
    "Next, with the help of basemap, we can draw places on a world map like we would draw points on a graph paper.\n",
    "\n",
    "I know I would be excited if someone was showing me all these cool things when I was learning these things!"
   ]
  },
  {
   "cell_type": "markdown",
   "metadata": {
    "slideshow": {
     "slide_type": "slide"
    }
   },
   "source": [
    "\n",
    "### Python - Making other subjects more lively\n",
    "\n",
    "<img align=\"center\" src=\"images/collage1.png\"></img>\n",
    "\n",
    "\n",
    "- matplotlib\n",
    "\n",
    "- basemap\n",
    "\n",
    "- Interactive Jupyter Notebooks\n",
    "\n"
   ]
  },
  {
   "cell_type": "markdown",
   "metadata": {
    "slideshow": {
     "slide_type": "subslide"
    }
   },
   "source": [
    "\n",
    "#### Bringing Science to life\n",
    "\n",
    "*Animation of a Projectile motion* [(Python Source)](https://github.com/doingmathwithpython/pycon-us-2016/blob/master/py-files/projectile_animation.py)\n",
    "\n",
    "\n"
   ]
  },
  {
   "cell_type": "code",
   "execution_count": 3,
   "metadata": {},
   "outputs": [
    {
     "data": {
      "image/jpeg": "[encoded data removed]",
      "text/html": [
       "\n",
       "        <iframe\n",
       "            width=\"400\"\n",
       "            height=\"300\"\n",
       "            src=\"https://www.youtube.com/embed/8uWRVh58KdQ\"\n",
       "            frameborder=\"0\"\n",
       "            allowfullscreen\n",
       "        ></iframe>\n",
       "        "
      ],
      "text/plain": [
       "<IPython.lib.display.YouTubeVideo at 0x10450c9e8>"
      ]
     },
     "execution_count": 3,
     "metadata": {},
     "output_type": "execute_result"
    }
   ],
   "source": [
    "from IPython.display import YouTubeVideo\n",
    "YouTubeVideo(\"8uWRVh58KdQ\")"
   ]
  },
  {
   "cell_type": "markdown",
   "metadata": {
    "slideshow": {
     "slide_type": "subslide"
    }
   },
   "source": [
    "#### Exploring Fractals in Nature\n",
    "\n",
    "*Interactively drawing a Barnsley Fern* [(Notebook)](https://github.com/doingmathwithpython/pycon-us-2016/blob/master/notebooks/Interactive%20Barnsley%20Fern.ipynb)\n",
    "\n",
    "\n",
    "\n",
    "<img align=\"center\" src=\"images/fern.jpg\" width=\"400\" ></img>\n"
   ]
  },
  {
   "cell_type": "markdown",
   "metadata": {
    "slideshow": {
     "slide_type": "subslide"
    }
   },
   "source": [
    "\n",
    "#### The world is your graph paper\n",
    "\n",
    "*Showing places on a digital map* [(Notebook)](https://github.com/doingmathwithpython/pycon-us-2016/blob/master/notebooks/Maps%20using%20Basemap%20-%20demo.ipynb)"
   ]
  },
  {
   "cell_type": "markdown",
   "metadata": {
    "slideshow": {
     "slide_type": "notes"
    }
   },
   "source": [
    "Next, I would like to talk about my book \"Doing Math with Python\". My idea was attractive enough to get it published by No Starch Press which makes me hope that I am probably onto something.\n",
    "\n",
    "Has anybody read my book? What do you think of it? You have read it and came to my talk? I am feeling better :)\n",
    "\n",
    "I discuss all of the topics I discuss today in my talk. In addition, I discuss sets, probability and random numbers and descriptive statistics.\n",
    "\n",
    "It's being translated into several non-English languages.\n",
    "\n",
    "The reviews/feedback so far has been really positive. I don't have any first hand involvement in teaching, so it's very appreciative of people to share their viewpoints with me."
   ]
  },
  {
   "cell_type": "markdown",
   "metadata": {
    "slideshow": {
     "slide_type": "slide"
    }
   },
   "source": [
    "### Book: Doing Math With Python\n",
    "\n",
    "<img align=\"center\" src=\"images/dmwp-cover.png\" href=\"https://doingmathwithpython.github.io\"></img>\n",
    "\n",
    "Overview\n",
    "\n",
    "- All of what I have discussed so far\n",
    "\n",
    "- In addition: Descriptive statistics, Sets and Probability, Random numbers\n",
    "\n",
    "Published by [No Starch Press](https://www.nostarch.com/doingmathwithpython) in August, 2015.\n",
    "\n",
    "*Upcoming/In-progress translations*: Simplified Chinese, Japanese, French and Korean."
   ]
  },
  {
   "cell_type": "markdown",
   "metadata": {
    "slideshow": {
     "slide_type": "subslide"
    }
   },
   "source": [
    "#### Comments\n",
    "\n",
    "> Saha does an excellent job providing a clear link between Python and upper-level math concepts, and demonstrates how Python can be transformed into a mathematical stage. This book deserves a spot on every geometry teacher’s bookshelf.\n",
    "\n",
    "[School Library Journal](http://www.slj.com/2016/05/collection-development/read-watch-alikes/coding-lets-begin/#_)"
   ]
  },
  {
   "cell_type": "markdown",
   "metadata": {
    "slideshow": {
     "slide_type": "subslide"
    }
   },
   "source": [
    "\n",
    "> Outstanding guide to using Python to do maths. Working back through my undergrad maths using Python.\n"
   ]
  },
  {
   "cell_type": "markdown",
   "metadata": {
    "slideshow": {
     "slide_type": "subslide"
    }
   },
   "source": [
    "\n",
    "> Saha does an excellent job providing a clear link between Python and upper-level math concepts, and demonstrates how Python can be transformed into a mathematical stage."
   ]
  },
  {
   "cell_type": "markdown",
   "metadata": {
    "slideshow": {
     "slide_type": "fragment"
    }
   },
   "source": [
    "\n",
    "> This book is highly recommended for the high school or college student and anyone who is looking for a more natural way of programming math and scientific functions"
   ]
  },
  {
   "cell_type": "markdown",
   "metadata": {
    "slideshow": {
     "slide_type": "fragment"
    }
   },
   "source": [
    "> As a teacher I highly recommend this book as a way to work with someone in learning both math and programming\n"
   ]
  },
  {
   "cell_type": "markdown",
   "metadata": {
    "slideshow": {
     "slide_type": "notes"
    }
   },
   "source": [
    "Okay, so that's great. We have successfully used Python to make the learning experience of young learners more fun and immediately applicable. Can we derive more benefit from doing that? Like something for the future? We all love doing things for the future, don't we?\n",
    "\n",
    "I think yes, i think if we teach young learners the things we have discussed today, it is a great base for someone wanting to go into data science or machine learning.\n",
    "\n",
    "Statistics and visualising data are two very key factors of data science.\n",
    "\n",
    "Differential calculus and specifically the gradient descent method is a simple but useful optimization method used in Machine Learning. Let's see a demo of using gradient descent to find the minimum value of a function.\n",
    "\n",
    "Now, let's apply gradient descent as an optimizer in a Linear Regression problem."
   ]
  },
  {
   "cell_type": "markdown",
   "metadata": {
    "slideshow": {
     "slide_type": "slide"
    }
   },
   "source": [
    "### Great base for the future\n",
    "\n",
    "*Statistics and Graphing data* -> *Data Science*\n",
    "\n",
    "*Differential Calculus* -> *Machine learning*\n"
   ]
  },
  {
   "cell_type": "markdown",
   "metadata": {
    "slideshow": {
     "slide_type": "subslide"
    }
   },
   "source": [
    "### Application of differentiation\n",
    "\n",
    "Use gradient descent to find a function's minimum value [(Notebook)](https://github.com/doingmathwithpython/pycon-us-2016/blob/master/notebooks/Gradient%20Descent.ipynb)"
   ]
  },
  {
   "cell_type": "markdown",
   "metadata": {
    "collapsed": true,
    "slideshow": {
     "slide_type": "subslide"
    }
   },
   "source": [
    "### Predict the college admission score based on high school math score\n",
    "\n",
    "Use gradient descent as the optimizer for single variable linear regression model [(Notebook)](https://github.com/doingmathwithpython/pycon-us-2016/blob/master/notebooks/Simple%20Linear%20Regression.ipynb)\n",
    "\n"
   ]
  },
  {
   "cell_type": "markdown",
   "metadata": {
    "collapsed": true,
    "slideshow": {
     "slide_type": "subslide"
    }
   },
   "source": [
    "### Advanced libraries\n",
    "\n",
    "- [scipy](https://scipy.org)\n",
    "\n",
    "- [numpy](http://www.numpy.org/)\n",
    "\n",
    "- [scikit-learn](http://scikit-learn.org/stable/)\n",
    "\n",
    "- [pandas](http://pandas.pydata.org/)\n",
    "\n",
    "- [Statsmodels](http://statsmodels.sourceforge.net/)\n",
    "\n"
   ]
  },
  {
   "cell_type": "markdown",
   "metadata": {
    "slideshow": {
     "slide_type": "slide"
    }
   },
   "source": [
    "\n",
    "### Dialogue\n",
    "\n",
    "Questions, Thoughts, comments, discussions? \n",
    "\n",
    "\n",
    "#### Online \n",
    "\n",
    "- Twitter: @echorand\n",
    "\n",
    "- Email: amitsaha.in@gmail.com\n",
    "    \n"
   ]
  },
  {
   "cell_type": "markdown",
   "metadata": {
    "slideshow": {
     "slide_type": "slide"
    }
   },
   "source": [
    "### PyCon Special!\n",
    "\n",
    "*Use PYCONMATH code to get 30% off \"Doing Math with Python\" from [No Starch Press](https://www.nostarch.com/doingmathwithpython)*\n",
    "\n",
    "\n",
    "<img align=\"center\" src=\"images/dmwp-cover.png\" href=\"https://doingmathwithpython.github.io\"></img>\n",
    "\n",
    "\n",
    "(Valid from  May 26th - June 8th) \n",
    "\n",
    "Book Signing - May 31st - 2.00 PM - No Starch Press booth"
   ]
  },
  {
   "cell_type": "markdown",
   "metadata": {
    "slideshow": {
     "slide_type": "slide"
    }
   },
   "source": [
    "### Acknowledgements\n",
    "\n",
    "PyCon US Education Summit team for inviting me\n",
    "\n"
   ]
  },
  {
   "cell_type": "markdown",
   "metadata": {
    "slideshow": {
     "slide_type": "fragment"
    }
   },
   "source": [
    "Thanks to PyCon US for reduced registration rates\n"
   ]
  },
  {
   "cell_type": "markdown",
   "metadata": {
    "slideshow": {
     "slide_type": "fragment"
    }
   },
   "source": [
    "\n",
    "Massive thanks to my employer, Freelancer.com for sponsoring my travel and stay \n"
   ]
  },
  {
   "cell_type": "markdown",
   "metadata": {
    "slideshow": {
     "slide_type": "slide"
    }
   },
   "source": [
    "### Links\n",
    "\n",
    "- [Upcoming O'Reilly Webcast](http://www.oreilly.com/pub/e/3712)\n",
    "\n",
    "- [Doing Math with Python](https://nostarch.com/doingmathwithpython)\n",
    "\n",
    "- [Doing Math with Python Blog](https://doingmathwithpython.github.io)\n",
    "\n",
    "- [Doing Math with Python on GitHub](https://github.com/doingmathwithpython)\n",
    "\n"
   ]
  }
 ],
 "metadata": {
  "celltoolbar": "Slideshow",
  "kernelspec": {
   "display_name": "Python 3",
   "language": "python",
   "name": "python3"
  },
  "language_info": {
   "codemirror_mode": {
    "name": "ipython",
    "version": 3
   },
   "file_extension": ".py",
   "mimetype": "text/x-python",
   "name": "python",
   "nbconvert_exporter": "python",
   "pygments_lexer": "ipython3",
   "version": "3.7.1"
  },
  "widgets": {
   "state": {},
   "version": "1.0.0"
  }
 },
 "nbformat": 4,
 "nbformat_minor": 1
}
